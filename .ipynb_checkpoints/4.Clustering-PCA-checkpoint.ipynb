{
 "cells": [
  {
   "cell_type": "markdown",
   "metadata": {},
   "source": [
    "# Clustering"
   ]
  },
  {
   "cell_type": "code",
   "execution_count": 1,
   "metadata": {},
   "outputs": [],
   "source": [
    "#import library\n",
    "import pandas as pd\n",
    "import numpy as np\n",
    "import matplotlib as mpl\n",
    "import matplotlib.pyplot as plt\n",
    "import seaborn as sns\n",
    "import joblib\n",
    "from IPython.display import clear_output\n",
    "from sklearn.decomposition import PCA\n",
    "from sklearn.preprocessing import StandardScaler,MinMaxScaler\n",
    "sns.set()\n",
    "np.random.seed(42)\n",
    "%matplotlib inline"
   ]
  },
  {
   "cell_type": "code",
   "execution_count": 2,
   "metadata": {},
   "outputs": [
    {
     "data": {
      "text/html": [
       "<div>\n",
       "<style scoped>\n",
       "    .dataframe tbody tr th:only-of-type {\n",
       "        vertical-align: middle;\n",
       "    }\n",
       "\n",
       "    .dataframe tbody tr th {\n",
       "        vertical-align: top;\n",
       "    }\n",
       "\n",
       "    .dataframe thead th {\n",
       "        text-align: right;\n",
       "    }\n",
       "</style>\n",
       "<table border=\"1\" class=\"dataframe\">\n",
       "  <thead>\n",
       "    <tr style=\"text-align: right;\">\n",
       "      <th></th>\n",
       "      <th>Unnamed: 0</th>\n",
       "      <th>sofifa_id</th>\n",
       "      <th>age</th>\n",
       "      <th>height_cm</th>\n",
       "      <th>weight_kg</th>\n",
       "      <th>overall</th>\n",
       "      <th>potential</th>\n",
       "      <th>value_eur</th>\n",
       "      <th>wage_eur</th>\n",
       "      <th>preferred_foot</th>\n",
       "      <th>...</th>\n",
       "      <th>mentality_composure</th>\n",
       "      <th>defending_marking</th>\n",
       "      <th>defending_standing_tackle</th>\n",
       "      <th>defending_sliding_tackle</th>\n",
       "      <th>goalkeeping_diving</th>\n",
       "      <th>goalkeeping_handling</th>\n",
       "      <th>goalkeeping_kicking</th>\n",
       "      <th>goalkeeping_positioning</th>\n",
       "      <th>goalkeeping_reflexes</th>\n",
       "      <th>best_pos</th>\n",
       "    </tr>\n",
       "  </thead>\n",
       "  <tbody>\n",
       "    <tr>\n",
       "      <th>0</th>\n",
       "      <td>184</td>\n",
       "      <td>192984</td>\n",
       "      <td>27</td>\n",
       "      <td>197</td>\n",
       "      <td>86</td>\n",
       "      <td>83</td>\n",
       "      <td>85</td>\n",
       "      <td>22000000</td>\n",
       "      <td>50000</td>\n",
       "      <td>0</td>\n",
       "      <td>...</td>\n",
       "      <td>40</td>\n",
       "      <td>11</td>\n",
       "      <td>19</td>\n",
       "      <td>17</td>\n",
       "      <td>83</td>\n",
       "      <td>79</td>\n",
       "      <td>79</td>\n",
       "      <td>82</td>\n",
       "      <td>83</td>\n",
       "      <td>2</td>\n",
       "    </tr>\n",
       "    <tr>\n",
       "      <th>1</th>\n",
       "      <td>193</td>\n",
       "      <td>188943</td>\n",
       "      <td>28</td>\n",
       "      <td>189</td>\n",
       "      <td>86</td>\n",
       "      <td>83</td>\n",
       "      <td>84</td>\n",
       "      <td>21500000</td>\n",
       "      <td>42000</td>\n",
       "      <td>1</td>\n",
       "      <td>...</td>\n",
       "      <td>62</td>\n",
       "      <td>15</td>\n",
       "      <td>14</td>\n",
       "      <td>10</td>\n",
       "      <td>82</td>\n",
       "      <td>77</td>\n",
       "      <td>79</td>\n",
       "      <td>83</td>\n",
       "      <td>85</td>\n",
       "      <td>2</td>\n",
       "    </tr>\n",
       "    <tr>\n",
       "      <th>2</th>\n",
       "      <td>205</td>\n",
       "      <td>159261</td>\n",
       "      <td>36</td>\n",
       "      <td>180</td>\n",
       "      <td>79</td>\n",
       "      <td>83</td>\n",
       "      <td>83</td>\n",
       "      <td>9500000</td>\n",
       "      <td>46000</td>\n",
       "      <td>1</td>\n",
       "      <td>...</td>\n",
       "      <td>84</td>\n",
       "      <td>35</td>\n",
       "      <td>21</td>\n",
       "      <td>15</td>\n",
       "      <td>6</td>\n",
       "      <td>7</td>\n",
       "      <td>5</td>\n",
       "      <td>4</td>\n",
       "      <td>4</td>\n",
       "      <td>1</td>\n",
       "    </tr>\n",
       "    <tr>\n",
       "      <th>3</th>\n",
       "      <td>206</td>\n",
       "      <td>163587</td>\n",
       "      <td>32</td>\n",
       "      <td>189</td>\n",
       "      <td>89</td>\n",
       "      <td>83</td>\n",
       "      <td>83</td>\n",
       "      <td>15500000</td>\n",
       "      <td>82000</td>\n",
       "      <td>1</td>\n",
       "      <td>...</td>\n",
       "      <td>67</td>\n",
       "      <td>14</td>\n",
       "      <td>14</td>\n",
       "      <td>13</td>\n",
       "      <td>82</td>\n",
       "      <td>77</td>\n",
       "      <td>79</td>\n",
       "      <td>79</td>\n",
       "      <td>88</td>\n",
       "      <td>2</td>\n",
       "    </tr>\n",
       "    <tr>\n",
       "      <th>4</th>\n",
       "      <td>221</td>\n",
       "      <td>190584</td>\n",
       "      <td>29</td>\n",
       "      <td>179</td>\n",
       "      <td>75</td>\n",
       "      <td>83</td>\n",
       "      <td>83</td>\n",
       "      <td>22000000</td>\n",
       "      <td>42000</td>\n",
       "      <td>1</td>\n",
       "      <td>...</td>\n",
       "      <td>79</td>\n",
       "      <td>83</td>\n",
       "      <td>83</td>\n",
       "      <td>80</td>\n",
       "      <td>15</td>\n",
       "      <td>7</td>\n",
       "      <td>11</td>\n",
       "      <td>14</td>\n",
       "      <td>12</td>\n",
       "      <td>3</td>\n",
       "    </tr>\n",
       "  </tbody>\n",
       "</table>\n",
       "<p>5 rows × 58 columns</p>\n",
       "</div>"
      ],
      "text/plain": [
       "   Unnamed: 0  sofifa_id  age  height_cm  weight_kg  overall  potential  \\\n",
       "0         184     192984   27        197         86       83         85   \n",
       "1         193     188943   28        189         86       83         84   \n",
       "2         205     159261   36        180         79       83         83   \n",
       "3         206     163587   32        189         89       83         83   \n",
       "4         221     190584   29        179         75       83         83   \n",
       "\n",
       "   value_eur  wage_eur  preferred_foot  ...  mentality_composure  \\\n",
       "0   22000000     50000               0  ...                   40   \n",
       "1   21500000     42000               1  ...                   62   \n",
       "2    9500000     46000               1  ...                   84   \n",
       "3   15500000     82000               1  ...                   67   \n",
       "4   22000000     42000               1  ...                   79   \n",
       "\n",
       "   defending_marking  defending_standing_tackle  defending_sliding_tackle  \\\n",
       "0                 11                         19                        17   \n",
       "1                 15                         14                        10   \n",
       "2                 35                         21                        15   \n",
       "3                 14                         14                        13   \n",
       "4                 83                         83                        80   \n",
       "\n",
       "   goalkeeping_diving  goalkeeping_handling  goalkeeping_kicking  \\\n",
       "0                  83                    79                   79   \n",
       "1                  82                    77                   79   \n",
       "2                   6                     7                    5   \n",
       "3                  82                    77                   79   \n",
       "4                  15                     7                   11   \n",
       "\n",
       "   goalkeeping_positioning  goalkeeping_reflexes  best_pos  \n",
       "0                       82                    83         2  \n",
       "1                       83                    85         2  \n",
       "2                        4                     4         1  \n",
       "3                       79                    88         2  \n",
       "4                       14                    12         3  \n",
       "\n",
       "[5 rows x 58 columns]"
      ]
     },
     "execution_count": 2,
     "metadata": {},
     "output_type": "execute_result"
    }
   ],
   "source": [
    "df = pd.read_csv('data/main_dataset_no_outliers_v2.csv')\n",
    "df.head()"
   ]
  },
  {
   "cell_type": "code",
   "execution_count": 3,
   "metadata": {},
   "outputs": [
    {
     "data": {
      "text/html": [
       "<div>\n",
       "<style scoped>\n",
       "    .dataframe tbody tr th:only-of-type {\n",
       "        vertical-align: middle;\n",
       "    }\n",
       "\n",
       "    .dataframe tbody tr th {\n",
       "        vertical-align: top;\n",
       "    }\n",
       "\n",
       "    .dataframe thead th {\n",
       "        text-align: right;\n",
       "    }\n",
       "</style>\n",
       "<table border=\"1\" class=\"dataframe\">\n",
       "  <thead>\n",
       "    <tr style=\"text-align: right;\">\n",
       "      <th></th>\n",
       "      <th>weak_foot</th>\n",
       "      <th>skill_moves</th>\n",
       "      <th>shooting</th>\n",
       "      <th>attacking_crossing</th>\n",
       "      <th>attacking_finishing</th>\n",
       "      <th>attacking_volleys</th>\n",
       "      <th>skill_dribbling</th>\n",
       "      <th>skill_curve</th>\n",
       "      <th>skill_fk_accuracy</th>\n",
       "      <th>skill_long_passing</th>\n",
       "      <th>...</th>\n",
       "      <th>mentality_penalties</th>\n",
       "      <th>goalkeeping_diving</th>\n",
       "      <th>goalkeeping_handling</th>\n",
       "      <th>goalkeeping_kicking</th>\n",
       "      <th>goalkeeping_positioning</th>\n",
       "      <th>goalkeeping_reflexes</th>\n",
       "      <th>passing</th>\n",
       "      <th>dribbling</th>\n",
       "      <th>defending</th>\n",
       "      <th>physic</th>\n",
       "    </tr>\n",
       "  </thead>\n",
       "  <tbody>\n",
       "    <tr>\n",
       "      <th>0</th>\n",
       "      <td>2</td>\n",
       "      <td>1</td>\n",
       "      <td>0.0</td>\n",
       "      <td>15</td>\n",
       "      <td>15</td>\n",
       "      <td>13</td>\n",
       "      <td>14</td>\n",
       "      <td>20</td>\n",
       "      <td>13</td>\n",
       "      <td>37</td>\n",
       "      <td>...</td>\n",
       "      <td>20</td>\n",
       "      <td>83</td>\n",
       "      <td>79</td>\n",
       "      <td>79</td>\n",
       "      <td>82</td>\n",
       "      <td>83</td>\n",
       "      <td>0.0</td>\n",
       "      <td>0.0</td>\n",
       "      <td>0.0</td>\n",
       "      <td>0.0</td>\n",
       "    </tr>\n",
       "    <tr>\n",
       "      <th>1</th>\n",
       "      <td>4</td>\n",
       "      <td>1</td>\n",
       "      <td>0.0</td>\n",
       "      <td>13</td>\n",
       "      <td>13</td>\n",
       "      <td>12</td>\n",
       "      <td>10</td>\n",
       "      <td>14</td>\n",
       "      <td>12</td>\n",
       "      <td>12</td>\n",
       "      <td>...</td>\n",
       "      <td>17</td>\n",
       "      <td>82</td>\n",
       "      <td>77</td>\n",
       "      <td>79</td>\n",
       "      <td>83</td>\n",
       "      <td>85</td>\n",
       "      <td>0.0</td>\n",
       "      <td>0.0</td>\n",
       "      <td>0.0</td>\n",
       "      <td>0.0</td>\n",
       "    </tr>\n",
       "    <tr>\n",
       "      <th>2</th>\n",
       "      <td>4</td>\n",
       "      <td>4</td>\n",
       "      <td>89.0</td>\n",
       "      <td>66</td>\n",
       "      <td>89</td>\n",
       "      <td>88</td>\n",
       "      <td>79</td>\n",
       "      <td>78</td>\n",
       "      <td>78</td>\n",
       "      <td>73</td>\n",
       "      <td>...</td>\n",
       "      <td>85</td>\n",
       "      <td>6</td>\n",
       "      <td>7</td>\n",
       "      <td>5</td>\n",
       "      <td>4</td>\n",
       "      <td>4</td>\n",
       "      <td>75.0</td>\n",
       "      <td>80.0</td>\n",
       "      <td>30.0</td>\n",
       "      <td>65.0</td>\n",
       "    </tr>\n",
       "    <tr>\n",
       "      <th>3</th>\n",
       "      <td>3</td>\n",
       "      <td>1</td>\n",
       "      <td>0.0</td>\n",
       "      <td>18</td>\n",
       "      <td>12</td>\n",
       "      <td>15</td>\n",
       "      <td>12</td>\n",
       "      <td>13</td>\n",
       "      <td>15</td>\n",
       "      <td>46</td>\n",
       "      <td>...</td>\n",
       "      <td>26</td>\n",
       "      <td>82</td>\n",
       "      <td>77</td>\n",
       "      <td>79</td>\n",
       "      <td>79</td>\n",
       "      <td>88</td>\n",
       "      <td>0.0</td>\n",
       "      <td>0.0</td>\n",
       "      <td>0.0</td>\n",
       "      <td>0.0</td>\n",
       "    </tr>\n",
       "    <tr>\n",
       "      <th>4</th>\n",
       "      <td>3</td>\n",
       "      <td>3</td>\n",
       "      <td>71.0</td>\n",
       "      <td>68</td>\n",
       "      <td>72</td>\n",
       "      <td>58</td>\n",
       "      <td>78</td>\n",
       "      <td>76</td>\n",
       "      <td>68</td>\n",
       "      <td>82</td>\n",
       "      <td>...</td>\n",
       "      <td>50</td>\n",
       "      <td>15</td>\n",
       "      <td>7</td>\n",
       "      <td>11</td>\n",
       "      <td>14</td>\n",
       "      <td>12</td>\n",
       "      <td>80.0</td>\n",
       "      <td>79.0</td>\n",
       "      <td>80.0</td>\n",
       "      <td>71.0</td>\n",
       "    </tr>\n",
       "  </tbody>\n",
       "</table>\n",
       "<p>5 rows × 26 columns</p>\n",
       "</div>"
      ],
      "text/plain": [
       "   weak_foot  skill_moves  shooting  attacking_crossing  attacking_finishing  \\\n",
       "0          2            1       0.0                  15                   15   \n",
       "1          4            1       0.0                  13                   13   \n",
       "2          4            4      89.0                  66                   89   \n",
       "3          3            1       0.0                  18                   12   \n",
       "4          3            3      71.0                  68                   72   \n",
       "\n",
       "   attacking_volleys  skill_dribbling  skill_curve  skill_fk_accuracy  \\\n",
       "0                 13               14           20                 13   \n",
       "1                 12               10           14                 12   \n",
       "2                 88               79           78                 78   \n",
       "3                 15               12           13                 15   \n",
       "4                 58               78           76                 68   \n",
       "\n",
       "   skill_long_passing  ...  mentality_penalties  goalkeeping_diving  \\\n",
       "0                  37  ...                   20                  83   \n",
       "1                  12  ...                   17                  82   \n",
       "2                  73  ...                   85                   6   \n",
       "3                  46  ...                   26                  82   \n",
       "4                  82  ...                   50                  15   \n",
       "\n",
       "   goalkeeping_handling  goalkeeping_kicking  goalkeeping_positioning  \\\n",
       "0                    79                   79                       82   \n",
       "1                    77                   79                       83   \n",
       "2                     7                    5                        4   \n",
       "3                    77                   79                       79   \n",
       "4                     7                   11                       14   \n",
       "\n",
       "   goalkeeping_reflexes  passing  dribbling  defending  physic  \n",
       "0                    83      0.0        0.0        0.0     0.0  \n",
       "1                    85      0.0        0.0        0.0     0.0  \n",
       "2                     4     75.0       80.0       30.0    65.0  \n",
       "3                    88      0.0        0.0        0.0     0.0  \n",
       "4                    12     80.0       79.0       80.0    71.0  \n",
       "\n",
       "[5 rows x 26 columns]"
      ]
     },
     "execution_count": 3,
     "metadata": {},
     "output_type": "execute_result"
    }
   ],
   "source": [
    "feature = ['weak_foot', 'skill_moves', 'shooting', 'attacking_crossing',\n",
    "        'attacking_finishing', 'attacking_volleys', 'skill_dribbling',\n",
    "        'skill_curve', 'skill_fk_accuracy', 'skill_long_passing',\n",
    "        'movement_agility', 'movement_balance', 'power_shot_power',\n",
    "        'power_long_shots', 'mentality_positioning', 'mentality_vision',\n",
    "        'mentality_penalties', 'goalkeeping_diving', 'goalkeeping_handling',\n",
    "        'goalkeeping_kicking', 'goalkeeping_positioning',\n",
    "        'goalkeeping_reflexes',\n",
    "        'passing', 'dribbling', 'defending', 'physic'] #combine with my previous feature\n",
    "data_selected = df[feature]\n",
    "data_selected.head()"
   ]
  },
  {
   "cell_type": "markdown",
   "metadata": {},
   "source": [
    "## Reduce dimension PCA\n",
    "https://medium.com/@dmitriy.kavyazin/principal-component-analysis-and-k-means-clustering-to-visualize-a-high-dimensional-dataset-577b2a7a5fe2\n"
   ]
  },
  {
   "cell_type": "code",
   "execution_count": 4,
   "metadata": {},
   "outputs": [],
   "source": [
    "pca = PCA(n_components=2)\n",
    "# X_std = data_selected\n",
    "X_std = MinMaxScaler().fit_transform(data_selected)\n",
    "X_transform = pca.fit_transform(X_std)"
   ]
  },
  {
   "cell_type": "code",
   "execution_count": 5,
   "metadata": {},
   "outputs": [
    {
     "data": {
      "text/plain": [
       "array([[ 2.33441558, -0.75347754],\n",
       "       [ 2.43607835, -0.75654796],\n",
       "       [-1.39256979, -0.79285532],\n",
       "       ...,\n",
       "       [ 0.40506255,  0.43897955],\n",
       "       [ 0.39837095,  0.34016525],\n",
       "       [ 0.35128566,  0.39798591]])"
      ]
     },
     "execution_count": 5,
     "metadata": {},
     "output_type": "execute_result"
    }
   ],
   "source": [
    "X_transform"
   ]
  },
  {
   "cell_type": "code",
   "execution_count": 6,
   "metadata": {},
   "outputs": [
    {
     "data": {
      "text/plain": [
       "<matplotlib.collections.PathCollection at 0x25fa3e01588>"
      ]
     },
     "execution_count": 6,
     "metadata": {},
     "output_type": "execute_result"
    },
    {
     "data": {
      "image/png": "[encoded data removed]",
      "text/plain": [
       "<Figure size 864x576 with 1 Axes>"
      ]
     },
     "metadata": {
      "needs_background": "light"
     },
     "output_type": "display_data"
    }
   ],
   "source": [
    "plt.figure(figsize=(12, 8))\n",
    "plt.scatter(X_transform[:,0], X_transform[:,1])"
   ]
  },
  {
   "cell_type": "markdown",
   "metadata": {},
   "source": [
    "### Define functions"
   ]
  },
  {
   "cell_type": "code",
   "execution_count": 7,
   "metadata": {},
   "outputs": [],
   "source": [
    "def euclidean_distance(a, b): #calculate euclidean distance\n",
    "    return np.sqrt(np.sum((a - b)**2))\n",
    "def select_centroid(data, centroids):\n",
    "    distances = [euclidean_distance(data, point) for point in centroids]\n",
    "    return np.argmin(distances)\n",
    "def is_convergen(old, new, K): #check is new clusters convergen or not, if convergen it will stop the loop\n",
    "    distances = [euclidean_distance(old[i], new[i]) for i in range(K)]\n",
    "    return sum(distances) == 0"
   ]
  },
  {
   "cell_type": "code",
   "execution_count": 8,
   "metadata": {},
   "outputs": [],
   "source": [
    "def kMeans(X, K = 2, max_iter = 100, verbose = True):\n",
    "    #Init\n",
    "    X = np.array(X)\n",
    "    n_data, n_feature = X.shape\n",
    "    y = np.full(n_data, -1)\n",
    "    cancel_token = True\n",
    "    i = 0\n",
    "    rand_c = np.random.choice(n_data, K, replace=False)\n",
    "    centroids = [np.array(X[idx]) for idx in rand_c]\n",
    "    \n",
    "    while(i < max_iter and cancel_token):\n",
    "        for idx, row in enumerate(X):\n",
    "            y[idx] = select_centroid(row, centroids)\n",
    "        old_centroids = centroids #save old centroids\n",
    "        #update new centroids\n",
    "        temp = np.zeros((K, n_feature))\n",
    "        for cluster in range(K) : #for each member of cluster, get mean value\n",
    "            idx = np.where( y == cluster)\n",
    "            temp[cluster] = np.mean(X[idx],axis = 0)\n",
    "        centroids = temp #UPDATE!\n",
    "        if is_convergen(old_centroids, centroids, K):\n",
    "            cancel_token = False\n",
    "        i+=1\n",
    "        if verbose:\n",
    "            print('iteration: %i, K: %i'% (i, K))\n",
    "            clear_output(wait=True)\n",
    "    return y, centroids"
   ]
  },
  {
   "cell_type": "code",
   "execution_count": 9,
   "metadata": {},
   "outputs": [],
   "source": [
    "def sse_score(X, centroids):\n",
    "    score = 0\n",
    "    for row in X:\n",
    "        distances = [euclidean_distance(row, point) for point in centroids]\n",
    "        score += min(distances)**2\n",
    "    return score\n",
    "def plot_cluster(X, label, center):\n",
    "    plt.figure(figsize=(12, 8))\n",
    "    plt.scatter(X[:, 0], X[:, 1], c=label, s=50, cmap='viridis')\n",
    "    plt.scatter(center[:, 0], center[:, 1], marker=\"x\", c='black');\n",
    "    plt.xlabel('X')\n",
    "    plt.ylabel('Y')\n",
    "    plt.show()\n",
    "def plot_silhouette(X, n_cluster_labels, silhouette_values, range_n_clusters, n_centers):\n",
    "#     https://scikit-learn.org/stable/auto_examples/cluster/plot_kmeans_silhouette_analysis.html\n",
    "    import matplotlib.cm as cm\n",
    "    for idx,n_clusters in enumerate(range_n_clusters):\n",
    "        # Create a subplot with 1 row and 2 columns\n",
    "        fig, (ax1, ax2) = plt.subplots(1, 2)\n",
    "        fig.set_size_inches(16, 5)\n",
    "        cluster_labels = n_cluster_labels[idx]\n",
    "        # The 1st subplot is the silhouette plot\n",
    "        # The silhouette coefficient can range from -1, 1 but in this example all\n",
    "        # lie within [-0.1, 1]\n",
    "        ax1.set_xlim([-0.1, 1])\n",
    "        # The (n_clusters+1)*10 is for inserting blank space between silhouette\n",
    "        # plots of individual clusters, to demarcate them clearly.\n",
    "        ax1.set_ylim([0, len(X) + (n_clusters + 1) * 10])\n",
    "\n",
    " \n",
    "\n",
    "        # The silhouette_score gives the average value for all the samples.\n",
    "        # This gives a perspective into the density and separation of the formed\n",
    "        # clusters\n",
    "        silhouette_avg = np.mean(silhouette_values[idx])\n",
    "        print(\"For K =\", n_clusters,\n",
    "              \"The average silhouette_score is :\", silhouette_avg)\n",
    "        sample_silhouette_values = silhouette_values[idx]\n",
    "\n",
    "        y_lower = 10\n",
    "        for i in range(n_clusters):\n",
    "            # Aggregate the silhouette scores for samples belonging to\n",
    "            # cluster i, and sort them\n",
    "            ith_cluster_silhouette_values = \\\n",
    "                sample_silhouette_values[cluster_labels == i]\n",
    "\n",
    "            ith_cluster_silhouette_values.sort()\n",
    "\n",
    "            size_cluster_i = ith_cluster_silhouette_values.shape[0]\n",
    "            y_upper = y_lower + size_cluster_i\n",
    "\n",
    "            color = cm.nipy_spectral(float(i) / n_clusters)\n",
    "            ax1.fill_betweenx(np.arange(y_lower, y_upper),\n",
    "                              0, ith_cluster_silhouette_values,\n",
    "                              facecolor=color, edgecolor=color, alpha=0.7)\n",
    "\n",
    "            # Label the silhouette plots with their cluster numbers at the middle\n",
    "            ax1.text(-0.05, y_lower + 0.5 * size_cluster_i, str(i))\n",
    "\n",
    "            # Compute the new y_lower for next plot\n",
    "            y_lower = y_upper + 10  # 10 for the 0 samples\n",
    "\n",
    "        ax1.set_title(\"The silhouette plot for the various clusters.\")\n",
    "        ax1.set_xlabel(\"The silhouette coefficient values\")\n",
    "        ax1.set_ylabel(\"Cluster label\")\n",
    "\n",
    "        # The vertical line for average silhouette score of all the values\n",
    "        ax1.axvline(x=silhouette_avg, color=\"red\", linestyle=\"--\")\n",
    "\n",
    "        ax1.set_yticks([])  # Clear the yaxis labels / ticks\n",
    "        ax1.set_xticks([-0.1, 0, 0.2, 0.4, 0.6, 0.8, 1])\n",
    "\n",
    "        # 2nd Plot showing the actual clusters formed\n",
    "        colors = cm.nipy_spectral(cluster_labels.astype(float) / n_clusters)\n",
    "        ax2.scatter(X[:, 0], X[:, 1], marker='.', s=30, lw=0, alpha=0.7,\n",
    "                    c=colors, edgecolor='k')\n",
    "\n",
    "        # Labeling the clusters\n",
    "        centers = n_centers[idx]\n",
    "        # Draw white circles at cluster centers\n",
    "        ax2.scatter(centers[:, 0], centers[:, 1], marker='o',\n",
    "                    c=\"white\", alpha=1, s=200, edgecolor='k')\n",
    "\n",
    "        for i, c in enumerate(centers):\n",
    "            ax2.scatter(c[0], c[1], marker='$%d$' % i, alpha=1,\n",
    "                        s=50, edgecolor='k')\n",
    "\n",
    "        ax2.set_title(\"The visualization of the clustered data.\")\n",
    "        ax2.set_xlabel(\"Feature space for the 1st feature\")\n",
    "        ax2.set_ylabel(\"Feature space for the 2nd feature\")\n",
    "\n",
    "        plt.suptitle((\"Silhouette analysis for KMeans clustering on sample data \"\n",
    "                      \"with n_clusters = %d\" % n_clusters),\n",
    "                     fontsize=14, fontweight='bold')\n",
    "\n",
    "    plt.show()"
   ]
  },
  {
   "cell_type": "markdown",
   "metadata": {},
   "source": [
    "### Main Program"
   ]
  },
  {
   "cell_type": "markdown",
   "metadata": {},
   "source": [
    "Define parameters"
   ]
  },
  {
   "cell_type": "code",
   "execution_count": 10,
   "metadata": {},
   "outputs": [],
   "source": [
    "K = 2\n",
    "max_iter = 20"
   ]
  },
  {
   "cell_type": "code",
   "execution_count": 11,
   "metadata": {},
   "outputs": [
    {
     "name": "stdout",
     "output_type": "stream",
     "text": [
      "iteration: 10, K: 2\n"
     ]
    }
   ],
   "source": [
    "y_pred, center = kMeans(X_transform, K, max_iter)"
   ]
  },
  {
   "cell_type": "code",
   "execution_count": 12,
   "metadata": {},
   "outputs": [
    {
     "data": {
      "image/png": "[encoded data removed]",
      "text/plain": [
       "<Figure size 864x576 with 1 Axes>"
      ]
     },
     "metadata": {
      "needs_background": "light"
     },
     "output_type": "display_data"
    }
   ],
   "source": [
    "plot_cluster(X_transform,y_pred,center)"
   ]
  },
  {
   "cell_type": "markdown",
   "metadata": {},
   "source": [
    "## Evaluate Score\n",
    "\n",
    "Using silhouette coefficient\n",
    "\n",
    "![Function](sihouette.jpg)\n",
    "\n",
    "https://medium.com/@ODSC/assessment-metrics-for-clustering-algorithms-4a902e00d92d"
   ]
  },
  {
   "cell_type": "code",
   "execution_count": 13,
   "metadata": {},
   "outputs": [],
   "source": [
    "from sklearn.metrics import silhouette_samples, silhouette_score"
   ]
  },
  {
   "cell_type": "code",
   "execution_count": 14,
   "metadata": {},
   "outputs": [
    {
     "data": {
      "text/plain": [
       "0.7570388137956855"
      ]
     },
     "execution_count": 14,
     "metadata": {},
     "output_type": "execute_result"
    }
   ],
   "source": [
    "result = silhouette_samples(X_transform,y_pred)\n",
    "np.mean(result)"
   ]
  },
  {
   "cell_type": "markdown",
   "metadata": {},
   "source": [
    "### Test using sklearn lib"
   ]
  },
  {
   "cell_type": "code",
   "execution_count": 15,
   "metadata": {},
   "outputs": [],
   "source": [
    "from sklearn.cluster import KMeans\n",
    "kmeans = KMeans(n_clusters=2, random_state=0).fit(X_transform)\n",
    "pred = kmeans.predict(X_transform)"
   ]
  },
  {
   "cell_type": "code",
   "execution_count": 16,
   "metadata": {},
   "outputs": [
    {
     "data": {
      "image/png": "[encoded data removed]",
      "text/plain": [
       "<Figure size 864x576 with 1 Axes>"
      ]
     },
     "metadata": {
      "needs_background": "light"
     },
     "output_type": "display_data"
    }
   ],
   "source": [
    "plot_cluster(X_transform,pred,kmeans.cluster_centers_)"
   ]
  },
  {
   "cell_type": "markdown",
   "metadata": {},
   "source": [
    "## Elbow method & Silhouette coefficient analysis"
   ]
  },
  {
   "cell_type": "code",
   "execution_count": null,
   "metadata": {},
   "outputs": [
    {
     "name": "stdout",
     "output_type": "stream",
     "text": [
      "iteration: 32, K: 10\n"
     ]
    }
   ],
   "source": [
    "silhouette = []\n",
    "scores = []\n",
    "results = []\n",
    "centers = []\n",
    "for K in range(2,11):\n",
    "    y_pred, center = kMeans(X_transform, K, max_iter)\n",
    "    results.append(y_pred)\n",
    "    centers.append(center)\n",
    "    silhouette.append(silhouette_samples(X_transform,y_pred))\n",
    "    scores.append(sse_score(X_transform,center))"
   ]
  },
  {
   "cell_type": "code",
   "execution_count": null,
   "metadata": {},
   "outputs": [],
   "source": [
    "Ks = np.array(range(2,11))\n",
    "plt.figure(figsize=(12, 8))\n",
    "plt.title('Elbow method')\n",
    "plt.plot(Ks, scores, marker='o', ls='-')\n",
    "plt.xlabel('K')\n",
    "plt.ylabel('SSE score')\n",
    "plt.show()"
   ]
  },
  {
   "cell_type": "code",
   "execution_count": null,
   "metadata": {},
   "outputs": [],
   "source": [
    "plot_silhouette(X=X_transform, n_cluster_labels=results, silhouette_values=silhouette, range_n_clusters=Ks, n_centers = centers)"
   ]
  },
  {
   "cell_type": "code",
   "execution_count": null,
   "metadata": {},
   "outputs": [],
   "source": [
    "plot_cluster(X_transform,results[0],centers[0])"
   ]
  }
 ],
 "metadata": {
  "kernelspec": {
   "display_name": "Python 3",
   "language": "python",
   "name": "python3"
  },
  "language_info": {
   "codemirror_mode": {
    "name": "ipython",
    "version": 3
   },
   "file_extension": ".py",
   "mimetype": "text/x-python",
   "name": "python",
   "nbconvert_exporter": "python",
   "pygments_lexer": "ipython3",
   "version": "3.7.4"
  }
 },
 "nbformat": 4,
 "nbformat_minor": 4
}
